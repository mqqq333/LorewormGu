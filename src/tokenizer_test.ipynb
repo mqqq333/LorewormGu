{
 "cells": [
  {
   "cell_type": "code",
   "execution_count": null,
   "metadata": {},
   "outputs": [],
   "source": [
    "from transformers import AutoTokenizer\n",
    "\n"
   ]
  },
  {
   "cell_type": "code",
   "execution_count": null,
   "metadata": {},
   "outputs": [
    {
     "name": "stdout",
     "output_type": "stream",
     "text": [
      " ������ C �еľ��� ϵͳ\n",
      " �������к��� 561A-8023\n",
      "\n",
      " C:\\Users\\mqqq3333 ��Ŀ¼\n",
      "\n",
      "2025/02/25  23:05    <DIR>          .\n",
      "2025/02/25  23:05    <DIR>          ..\n",
      "2025/01/10  15:38    <DIR>          .alfabis\n",
      "2024/05/02  23:23    <DIR>          .anaconda\n",
      "2025/01/08  16:30    <DIR>          .astropy\n",
      "2025/02/22  14:06            38,372 .bash_history\n",
      "2025/02/25  23:05    <DIR>          .cache\n",
      "2024/05/02  23:39    <DIR>          .conda\n",
      "2024/05/02  23:23                25 .condarc\n",
      "2025/02/17  11:24    <DIR>          .config\n",
      "2024/05/02  23:23    <DIR>          .continuum\n",
      "2025/02/16  11:58    <DIR>          .crossnote\n",
      "2024/04/29  13:36    <DIR>          .dotnet\n",
      "2024/05/29  23:19                53 .gitconfig\n",
      "2024/05/05  10:51    <DIR>          .idlerc\n",
      "2024/05/14  22:49    <DIR>          .ipython\n",
      "2024/12/24  18:06    <DIR>          .jupyter\n",
      "2024/06/20  20:50                20 .lesshst\n",
      "2025/02/25  17:50    <DIR>          .lingma\n",
      "2025/01/18  21:51    <DIR>          .matplotlib\n",
      "2025/02/15  15:17    <DIR>          .minikube\n",
      "2025/02/25  23:05    <DIR>          .modelscope\n",
      "2025/02/17  20:35               184 .MRIcroGL_dcm.ini\n",
      "2025/02/17  20:58             1,096 .MRIcroGL12.ini\n",
      "2024/05/05  21:06    <DIR>          .pymobiledevice3\n",
      "2025/01/09  19:41               114 .python_history\n",
      "2025/01/17  20:35    <DIR>          .redhat\n",
      "2024/05/12  20:01    <DIR>          .spss\n",
      "2024/05/29  23:27    <DIR>          .ssh\n",
      "2024/04/29  13:49    <DIR>          .templateengine\n",
      "2024/06/17  21:08    <DIR>          .texlive2024\n",
      "2024/06/06  14:33    <DIR>          .vscode\n",
      "2025/01/17  20:35    <DIR>          .vs-kubernetes\n",
      "2025/02/20  22:12                89 _netrc\n",
      "2024/04/28  14:50    <DIR>          3D Objects\n",
      "2024/05/12  13:55    <DIR>          ansel\n",
      "2024/04/28  14:50    <DIR>          Contacts\n",
      "2025/02/28  22:18    <DIR>          Desktop\n",
      "2025/02/18  17:27    <DIR>          Documents\n",
      "2025/02/28  17:00    <DIR>          Downloads\n",
      "2024/04/28  14:50    <DIR>          Favorites\n",
      "2024/04/28  23:21    <DIR>          final\n",
      "2024/04/29  13:46         2,635,835 get-pip.py\n",
      "2025/02/18  20:57     3,303,800,552 java_error_in_pycharm64.hprof\n",
      "2024/04/28  14:50    <DIR>          Links\n",
      "2025/02/01  23:25    <DIR>          Music\n",
      "2024/04/28  23:19    <DIR>          My project\n",
      "2025/02/23  01:04    <DIR>          OneDrive\n",
      "2024/04/28  14:51    <DIR>          Pictures\n",
      "2024/04/29  13:48                 0 py\n",
      "2024/04/28  14:50    <DIR>          Saved Games\n",
      "2024/04/28  14:51    <DIR>          Searches\n",
      "2024/04/29  13:23    <DIR>          source\n",
      "2024/04/29  14:48    <DIR>          UnrealEngine_4.26\n",
      "2025/02/20  20:28    <DIR>          Videos\n",
      "              11 ���ļ�  3,306,476,340 �ֽ�\n",
      "              44 ��Ŀ¼ 128,849,649,664 �����ֽ�\n"
     ]
    }
   ],
   "source": [
    "tokenizer = AutoTokenizer.from_pretrained(r'/home/u3210104896/LorewormGu/tokenizer.json')\n",
    "\n",
    "# 测试编码\n",
    "encoded_text = tokenizer.encode(\"我爱学习\")\n",
    "\n",
    "# 输出结果\n",
    "print(f\"Encoded text: {encoded_text}\")\n"
   ]
  },
  {
   "cell_type": "code",
   "execution_count": null,
   "metadata": {},
   "outputs": [
    {
     "name": "stdout",
     "output_type": "stream",
     "text": [
      "Encoded text: [397, 1699, 1511]\n"
     ]
    }
   ],
   "source": []
  }
 ],
 "metadata": {
  "kernelspec": {
   "display_name": "Python 3",
   "language": "python",
   "name": "python3"
  },
  "language_info": {
   "codemirror_mode": {
    "name": "ipython",
    "version": 3
   },
   "file_extension": ".py",
   "mimetype": "text/x-python",
   "name": "python",
   "nbconvert_exporter": "python",
   "pygments_lexer": "ipython3",
   "version": "3.9.20"
  }
 },
 "nbformat": 4,
 "nbformat_minor": 2
}
